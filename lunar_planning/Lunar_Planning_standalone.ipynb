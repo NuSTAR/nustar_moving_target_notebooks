{
 "cells": [
  {
   "cell_type": "markdown",
   "metadata": {},
   "source": [
    "# First thing to do, make a copy of this notebook under File->Make a Copy with some intelligent naming convention.\n",
    "\n",
    "---"
   ]
  },
  {
   "cell_type": "markdown",
   "metadata": {},
   "source": [
    "# Set your observing times here.\n",
    "\n",
    "## NB: This will be a broader window that you'll actually use. The final output will give you orbit-by-orbit pointing information. So you can use a subset of the orbits that are chosen here."
   ]
  },
  {
   "cell_type": "code",
   "execution_count": 5,
   "metadata": {
    "collapsed": false
   },
   "outputs": [],
   "source": [
    "from datetime import datetime\n",
    "tstart = '2017-08-13T00:00:00'\n",
    "tend = '2017-08-14T00:00:00'\n",
    " \n",
    "# Turn these into datetime objects\n",
    "\n",
    "tstart = datetime.strptime(tstart, '%Y-%m-%dT%H:%M:%S')\n",
    "tend = datetime.strptime(tend, '%Y-%m-%dT%H:%M:%S')                "
   ]
  },
  {
   "cell_type": "markdown",
   "metadata": {},
   "source": [
    "---\n",
    "# Step 1, get the nominal RA/Dec Position for the Moon at the start.\n",
    "\n",
    "## We use this to determine what the occultation times are."
   ]
  },
  {
   "cell_type": "code",
   "execution_count": 6,
   "metadata": {
    "collapsed": false
   },
   "outputs": [
    {
     "name": "stdout",
     "output_type": "stream",
     "text": [
      "../orbit_engine/lunar_194to195.sh\n"
     ]
    }
   ],
   "source": [
    "from skyfield.api import Loader\n",
    "from astropy.time import Time\n",
    "import astropy.units as u\n",
    "\n",
    "load = Loader('../../data')\n",
    "\n",
    "ts = load.timescale()\n",
    "planets = load('de436.bsp')\n",
    "\n",
    "astro_time = Time(tstart)\n",
    "t = ts.from_astropy(astro_time)\n",
    "moon, earth = planets['moon'], planets['earth']\n",
    "astrometric = earth.at(t).observe(moon)\n",
    "ra, dec, distance = astrometric.radec()\n",
    "\n",
    "\n",
    "occstring = \"./occ {0:0.4f} {1:0.4f} Latest_TLE.txt {2}:{3}:00:00:00 {4}:{5}:00:00:00 lunar_{3}_{5}.occ\".format(\n",
    "      ra.to(u.deg).value, dec.to(u.deg).value,\n",
    "      tstart.timetuple().tm_year, tstart.timetuple().tm_yday, \n",
    "      tend.timetuple().tm_year, tend.timetuple().tm_yday)\n",
    "\n",
    "\n",
    "outfile = '../orbit_engine/lunar_{0}to{1}.sh'.format(tstart.timetuple().tm_yday, tend.timetuple().tm_yday)\n",
    "print(outfile)\n",
    "\n",
    "f = open(outfile, 'w')\n",
    "f.write(occstring)\n",
    "f.close()\n",
    "\n",
    "\n",
    "import os\n",
    "import stat\n",
    "\n",
    "st = os.stat(outfile)\n",
    "os.chmod(outfile, st.st_mode | stat.S_IEXEC)\n",
    "\n"
   ]
  },
  {
   "cell_type": "code",
   "execution_count": 8,
   "metadata": {
    "collapsed": false
   },
   "outputs": [
    {
     "data": {
      "text/plain": [
       "{0: ['SOLAR_SYSTEM_BARYCENTER', 'SSB', 'SOLAR SYSTEM BARYCENTER'],\n",
       " 1: ['MERCURY_BARYCENTER', 'MERCURY BARYCENTER'],\n",
       " 2: ['VENUS_BARYCENTER', 'VENUS BARYCENTER'],\n",
       " 3: ['EARTH_BARYCENTER',\n",
       "  'EMB',\n",
       "  'EARTH MOON BARYCENTER',\n",
       "  'EARTH-MOON BARYCENTER',\n",
       "  'EARTH BARYCENTER'],\n",
       " 4: ['MARS_BARYCENTER', 'MARS BARYCENTER'],\n",
       " 5: ['JUPITER_BARYCENTER', 'JUPITER BARYCENTER'],\n",
       " 6: ['SATURN_BARYCENTER', 'SATURN BARYCENTER'],\n",
       " 7: ['URANUS_BARYCENTER', 'URANUS BARYCENTER'],\n",
       " 8: ['NEPTUNE_BARYCENTER', 'NEPTUNE BARYCENTER'],\n",
       " 9: ['PLUTO_BARYCENTER', 'PLUTO BARYCENTER'],\n",
       " 10: ['SUN'],\n",
       " 199: ['MERCURY'],\n",
       " 299: ['VENUS'],\n",
       " 301: ['MOON'],\n",
       " 399: ['EARTH']}"
      ]
     },
     "execution_count": 8,
     "metadata": {},
     "output_type": "execute_result"
    }
   ],
   "source": [
    "planets.names()"
   ]
  },
  {
   "cell_type": "markdown",
   "metadata": {},
   "source": [
    "---\n",
    "# Step 2: Go run the code that figures out the unocculted periods for the RA/Dec and the date range reported above.\n",
    "\n",
    "This works on lif. There are example shell scripts in the ../orbit_engine directory that use the version that Karl already compiled for the nuops users.\n",
    "\n",
    "First, get the latest TLE archive:\n",
    "\n",
    "`./get_latest_TLE.sh`\n",
    "\n",
    "Run the script that was produced above.\n"
   ]
  },
  {
   "cell_type": "markdown",
   "metadata": {},
   "source": [
    "# Step 3: Initialize your libraries and parse the resulting occultation file:\n"
   ]
  },
  {
   "cell_type": "code",
   "execution_count": 3,
   "metadata": {
    "collapsed": false
   },
   "outputs": [
    {
     "data": {
      "text/html": [
       "<div>\n",
       "<style>\n",
       "    .dataframe thead tr:only-child th {\n",
       "        text-align: right;\n",
       "    }\n",
       "\n",
       "    .dataframe thead th {\n",
       "        text-align: left;\n",
       "    }\n",
       "\n",
       "    .dataframe tbody tr th {\n",
       "        vertical-align: top;\n",
       "    }\n",
       "</style>\n",
       "<table border=\"1\" class=\"dataframe\">\n",
       "  <thead>\n",
       "    <tr style=\"text-align: right;\">\n",
       "      <th></th>\n",
       "      <th>visible</th>\n",
       "      <th>occulted</th>\n",
       "    </tr>\n",
       "  </thead>\n",
       "  <tbody>\n",
       "    <tr>\n",
       "      <th>0</th>\n",
       "      <td>2017-07-13 00:22:04</td>\n",
       "      <td>2017-07-13 01:17:59</td>\n",
       "    </tr>\n",
       "    <tr>\n",
       "      <th>1</th>\n",
       "      <td>2017-07-13 01:58:44</td>\n",
       "      <td>2017-07-13 02:54:38</td>\n",
       "    </tr>\n",
       "    <tr>\n",
       "      <th>2</th>\n",
       "      <td>2017-07-13 03:35:24</td>\n",
       "      <td>2017-07-13 04:31:18</td>\n",
       "    </tr>\n",
       "    <tr>\n",
       "      <th>3</th>\n",
       "      <td>2017-07-13 05:12:03</td>\n",
       "      <td>2017-07-13 06:07:57</td>\n",
       "    </tr>\n",
       "    <tr>\n",
       "      <th>4</th>\n",
       "      <td>2017-07-13 06:48:43</td>\n",
       "      <td>2017-07-13 07:44:37</td>\n",
       "    </tr>\n",
       "  </tbody>\n",
       "</table>\n",
       "</div>"
      ],
      "text/plain": [
       "               visible             occulted\n",
       "0  2017-07-13 00:22:04  2017-07-13 01:17:59\n",
       "1  2017-07-13 01:58:44  2017-07-13 02:54:38\n",
       "2  2017-07-13 03:35:24  2017-07-13 04:31:18\n",
       "3  2017-07-13 05:12:03  2017-07-13 06:07:57\n",
       "4  2017-07-13 06:48:43  2017-07-13 07:44:37"
      ]
     },
     "execution_count": 3,
     "metadata": {},
     "output_type": "execute_result"
    }
   ],
   "source": [
    "from nustar_planning import io\n",
    "occfile= \"../orbit_engine/lunar_{0}_{1}.occ\".format(tstart.timetuple().tm_yday,tend.timetuple().tm_yday )\n",
    "\n",
    "orbits = io.parse_occ(occfile)\n",
    "\n",
    "# NB: The \"head\" command here only shows the first couple of rows. Do a \"print(orbits)\" to see them all.\n",
    "orbits.head()\n"
   ]
  },
  {
   "cell_type": "markdown",
   "metadata": {},
   "source": [
    "# Use SkyField to get the location of Jupiter for each orbit:\n",
    "\n",
    "This puts the output into the provided text file. This shows the *aim* time that was used to determine the pointing. You should slew while the source is occulted."
   ]
  },
  {
   "cell_type": "code",
   "execution_count": 4,
   "metadata": {
    "collapsed": false,
    "scrolled": true
   },
   "outputs": [
    {
     "name": "stdout",
     "output_type": "stream",
     "text": [
      "Aim Time            RA         Dec\n",
      "2017-07-13T00:22:04 337.44450  -10.85557\n",
      "2017-07-13T00:22:04 337.46482  -10.91246\n",
      "2017-07-13T00:22:04 337.01028  -10.90056\n",
      "2017-07-13T00:22:04 336.35881  -10.80913\n",
      "2017-07-13T00:22:04 335.90298  -10.67215\n",
      "2017-07-13T01:58:44 338.27370  -10.61392\n",
      "2017-07-13T01:58:44 338.30449  -10.66720\n",
      "2017-07-13T01:58:44 337.85756  -10.65428\n",
      "2017-07-13T01:58:44 337.20635  -10.56490\n",
      "2017-07-13T01:58:44 336.74302  -10.43173\n",
      "2017-07-13T03:35:24 339.10238  -10.36995\n",
      "2017-07-13T03:35:24 339.14356  -10.41956\n",
      "2017-07-13T03:35:24 338.70405  -10.40549\n",
      "2017-07-13T03:35:24 338.05307  -10.31801\n",
      "2017-07-13T03:35:24 337.58259  -10.18858\n",
      "2017-07-13T05:12:03 339.93009  -10.12360\n",
      "2017-07-13T05:12:03 339.98245  -10.16955\n",
      "2017-07-13T05:12:03 339.55103  -10.15435\n",
      "2017-07-13T05:12:03 338.90047  -10.06877\n",
      "2017-07-13T05:12:03 338.42244  -9.94310\n",
      "2017-07-13T06:48:43 340.75778  -9.87512\n",
      "2017-07-13T06:48:43 340.82054  -9.91729\n",
      "2017-07-13T06:48:43 340.39673  -9.90074\n",
      "2017-07-13T06:48:43 339.74670  -9.81690\n",
      "2017-07-13T06:48:43 339.26178  -9.69494\n",
      "2017-07-13T08:25:22 341.58454  -9.62437\n",
      "2017-07-13T08:25:22 341.65847  -9.66277\n",
      "2017-07-13T08:25:22 341.24296  -9.64489\n",
      "2017-07-13T08:25:22 340.59368  -9.56278\n",
      "2017-07-13T08:25:22 340.10146  -9.44453\n",
      "2017-07-13T10:02:02 342.41137  -9.37157\n",
      "2017-07-13T10:02:02 342.49568  -9.40608\n",
      "2017-07-13T10:02:02 342.08797  -9.38666\n",
      "2017-07-13T10:02:02 341.43954  -9.30612\n",
      "2017-07-13T10:02:02 340.94066  -9.19154\n",
      "2017-07-13T11:38:41 343.23729  -9.11660\n",
      "2017-07-13T11:38:41 343.33271  -9.14724\n",
      "2017-07-13T11:38:41 342.93322  -9.12626\n",
      "2017-07-13T11:38:41 342.28563  -9.04720\n",
      "2017-07-13T11:38:41 341.77993  -8.93624\n",
      "2017-07-13T13:15:21 344.06339  -8.85966\n",
      "2017-07-13T13:15:21 344.16922  -8.88633\n",
      "2017-07-13T13:15:21 343.77801  -8.86366\n",
      "2017-07-13T13:15:21 343.13180  -8.78605\n",
      "2017-07-13T13:15:21 342.61949  -8.67873\n",
      "2017-07-13T14:52:00 344.88861  -8.60067\n",
      "2017-07-13T14:52:00 345.00553  -8.62337\n",
      "2017-07-13T14:52:00 344.62274  -8.59894\n",
      "2017-07-13T14:52:00 343.97770  -8.52264\n",
      "2017-07-13T14:52:00 343.45880  -8.41888\n",
      "2017-07-13T16:28:40 345.71411  -8.33980\n",
      "2017-07-13T16:28:40 345.84141  -8.35843\n",
      "2017-07-13T16:28:40 345.46709  -8.33213\n",
      "2017-07-13T16:28:40 344.82373  -8.25709\n",
      "2017-07-13T16:28:40 344.29848  -8.15690\n",
      "2017-07-13T18:05:20 346.53936  -8.07702\n",
      "2017-07-13T18:05:20 346.67699  -8.09156\n",
      "2017-07-13T18:05:20 346.31093  -8.06326\n",
      "2017-07-13T18:05:20 345.66916  -7.98934\n",
      "2017-07-13T18:05:20 345.13787  -7.89265\n",
      "2017-07-13T19:41:59 347.36380  -7.81234\n",
      "2017-07-13T19:41:59 347.51254  -7.82280\n",
      "2017-07-13T19:41:59 347.15547  -7.79250\n",
      "2017-07-13T19:41:59 346.51558  -7.71965\n",
      "2017-07-13T19:41:59 345.97792  -7.62643\n",
      "2017-07-13T21:18:39 348.18867  -7.54591\n",
      "2017-07-13T21:18:39 348.34771  -7.55221\n",
      "2017-07-13T21:18:39 347.99907  -7.51973\n",
      "2017-07-13T21:18:39 347.36107  -7.44781\n",
      "2017-07-13T21:18:39 346.81762  -7.35801\n",
      "2017-07-13T22:55:18 349.01277  -7.27770\n",
      "2017-07-13T22:55:18 349.18288  -7.27985\n",
      "2017-07-13T22:55:18 348.84342  -7.24519\n",
      "2017-07-13T22:55:18 348.20762  -7.17414\n",
      "2017-07-13T22:55:18 347.65808  -7.08770\n",
      "Output is stored in: lunar_194_195_pointing.txt\n"
     ]
    }
   ],
   "source": [
    "from nustar_planning import lunar_planning\n",
    "outfile = 'lunar_{0}_{1}_pointing.txt'.format(tstart.timetuple().tm_yday,tend.timetuple().tm_yday )\n",
    "lunar_planning.position(orbits, load_path ='../../data',\n",
    "                 parallax_correction=True,\n",
    "                 outfile=outfile, show=True)\n",
    "print(\"Output is stored in: {}\".format(outfile))"
   ]
  },
  {
   "cell_type": "code",
   "execution_count": null,
   "metadata": {
    "collapsed": true
   },
   "outputs": [],
   "source": []
  }
 ],
 "metadata": {
  "anaconda-cloud": {},
  "kernelspec": {
   "display_name": "Python [default]",
   "language": "python",
   "name": "python3"
  },
  "language_info": {
   "codemirror_mode": {
    "name": "ipython",
    "version": 3
   },
   "file_extension": ".py",
   "mimetype": "text/x-python",
   "name": "python",
   "nbconvert_exporter": "python",
   "pygments_lexer": "ipython3",
   "version": "3.5.2"
  }
 },
 "nbformat": 4,
 "nbformat_minor": 2
}
