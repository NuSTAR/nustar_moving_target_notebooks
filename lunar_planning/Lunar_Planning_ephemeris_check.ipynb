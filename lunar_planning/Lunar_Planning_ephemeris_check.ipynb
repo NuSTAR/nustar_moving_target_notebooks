{
 "cells": [
  {
   "cell_type": "markdown",
   "metadata": {},
   "source": [
    "# Note, this *only* works for observing things in the future. Dealing with the pointing corrections in the analysis is not supported here.\n",
    "\n",
    "\n",
    "\n"
   ]
  },
  {
   "cell_type": "markdown",
   "metadata": {},
   "source": [
    "# First thing to do, make a copy of this notebook under File->Make a Copy with some intelligent naming convention.\n",
    "\n",
    "---"
   ]
  },
  {
   "cell_type": "markdown",
   "metadata": {},
   "source": [
    "# Set your observing times here.\n",
    "\n",
    "## NB: This will be a broader window that you'll actually use. The final output will give you orbit-by-orbit pointing information. So you can use a subset of the orbits that are chosen here."
   ]
  },
  {
   "cell_type": "code",
   "execution_count": 18,
   "metadata": {
    "collapsed": false
   },
   "outputs": [],
   "source": [
    "from datetime import datetime\n",
    "import numpy as np\n",
    "tstart = '2017-08-17T18:55:00'\n",
    "tend = '2017-08-17T18:59:00'\n",
    " \n",
    "# Turn these into datetime objects\n",
    "\n",
    "tstart = datetime.strptime(tstart, '%Y-%m-%dT%H:%M:%S')\n",
    "tend = datetime.strptime(tend, '%Y-%m-%dT%H:%M:%S')                "
   ]
  },
  {
   "cell_type": "markdown",
   "metadata": {},
   "source": [
    "---\n",
    "# Step 1, get the nominal RA/Dec Position for the Moon at the start.\n",
    "\n",
    "## We use this to determine what the occultation times are."
   ]
  },
  {
   "cell_type": "code",
   "execution_count": 21,
   "metadata": {
    "collapsed": false
   },
   "outputs": [],
   "source": [
    "from skyfield.api import Loader\n",
    "from astropy.time import Time\n",
    "import astropy.units as u\n",
    "\n",
    "load = Loader('../../data')\n",
    "\n",
    "ts = load.timescale()\n",
    "planets = load('de436.bsp')\n",
    "\n",
    "tcheck = '2017-08-21T18:56:00'\n",
    "tcheck = '2017-10-04T18:56:00'\n",
    "\n",
    "\n",
    "astro_time = Time(tcheck)\n",
    "t = ts.from_astropy(astro_time)\n",
    "sun, moon, earth = planets['Sun'], planets['moon'], planets['earth']\n",
    "\n"
   ]
  },
  {
   "cell_type": "code",
   "execution_count": 4,
   "metadata": {
    "collapsed": false
   },
   "outputs": [
    {
     "data": {
      "text/plain": [
       "{0: ['SOLAR_SYSTEM_BARYCENTER', 'SSB', 'SOLAR SYSTEM BARYCENTER'],\n",
       " 1: ['MERCURY_BARYCENTER', 'MERCURY BARYCENTER'],\n",
       " 2: ['VENUS_BARYCENTER', 'VENUS BARYCENTER'],\n",
       " 3: ['EARTH_BARYCENTER',\n",
       "  'EMB',\n",
       "  'EARTH MOON BARYCENTER',\n",
       "  'EARTH-MOON BARYCENTER',\n",
       "  'EARTH BARYCENTER'],\n",
       " 4: ['MARS_BARYCENTER', 'MARS BARYCENTER'],\n",
       " 5: ['JUPITER_BARYCENTER', 'JUPITER BARYCENTER'],\n",
       " 6: ['SATURN_BARYCENTER', 'SATURN BARYCENTER'],\n",
       " 7: ['URANUS_BARYCENTER', 'URANUS BARYCENTER'],\n",
       " 8: ['NEPTUNE_BARYCENTER', 'NEPTUNE BARYCENTER'],\n",
       " 9: ['PLUTO_BARYCENTER', 'PLUTO BARYCENTER'],\n",
       " 10: ['SUN'],\n",
       " 199: ['MERCURY'],\n",
       " 299: ['VENUS'],\n",
       " 301: ['MOON'],\n",
       " 399: ['EARTH']}"
      ]
     },
     "execution_count": 4,
     "metadata": {},
     "output_type": "execute_result"
    }
   ],
   "source": [
    "planets.names()"
   ]
  },
  {
   "cell_type": "markdown",
   "metadata": {},
   "source": [
    "# Use SkyField to get the location of Jupiter for each orbit:\n",
    "\n",
    "This puts the output into the provided text file. This shows the *aim* time that was used to determine the pointing. You should slew while the source is occulted."
   ]
  },
  {
   "cell_type": "code",
   "execution_count": 22,
   "metadata": {
    "collapsed": false,
    "scrolled": true
   },
   "outputs": [],
   "source": [
    "import nustar_planning.io as io\n",
    "from skyfield.api import EarthSatellite\n",
    "\n",
    "\n",
    "tlefile = io.download_tle()\n",
    "tcheck = '2017-10-04T18:56:00'\n",
    "astro_time = Time(tcheck)\n",
    "mindt, line1, line2 = io.get_epoch_tle(astro_time, tlefile)\n",
    "nustar = EarthSatellite(line1, line2)\n",
    "observer = earth + nustar\n",
    "\n"
   ]
  },
  {
   "cell_type": "code",
   "execution_count": 23,
   "metadata": {
    "collapsed": false
   },
   "outputs": [],
   "source": [
    "astrometric = observer.at(t).observe(sun)\n",
    "ra_sun, dec_sun, distance = astrometric.radec()\n",
    "\n",
    "astrometric = observer.at(t).observe(moon)\n",
    "ra_moon, dec_moon, distance = astrometric.radec()\n",
    "\n"
   ]
  },
  {
   "cell_type": "code",
   "execution_count": 26,
   "metadata": {
    "collapsed": false
   },
   "outputs": [],
   "source": [
    "sun_pos = np.array([ra_sun.to(u.deg).value,\n",
    "    dec_sun.to(u.deg).value])*u.deg\n",
    "\n",
    "moon_pos = np.array([ra_moon.to(u.deg).value,\n",
    "    dec_moon.to(u.deg).value])*u.deg\n",
    "\n",
    "\n"
   ]
  },
  {
   "cell_type": "code",
   "execution_count": 27,
   "metadata": {
    "collapsed": false
   },
   "outputs": [
    {
     "name": "stdout",
     "output_type": "stream",
     "text": [
      "[ 190.56968574   -4.54741536] deg\n",
      "[ 1.0087954  -3.23521467] deg\n"
     ]
    }
   ],
   "source": [
    "print(sun_pos)\n",
    "print(moon_pos)\n"
   ]
  },
  {
   "cell_type": "code",
   "execution_count": null,
   "metadata": {
    "collapsed": true
   },
   "outputs": [],
   "source": []
  }
 ],
 "metadata": {
  "anaconda-cloud": {},
  "kernelspec": {
   "display_name": "Python [default]",
   "language": "python",
   "name": "python3"
  },
  "language_info": {
   "codemirror_mode": {
    "name": "ipython",
    "version": 3
   },
   "file_extension": ".py",
   "mimetype": "text/x-python",
   "name": "python",
   "nbconvert_exporter": "python",
   "pygments_lexer": "ipython3",
   "version": "3.5.2"
  }
 },
 "nbformat": 4,
 "nbformat_minor": 2
}
