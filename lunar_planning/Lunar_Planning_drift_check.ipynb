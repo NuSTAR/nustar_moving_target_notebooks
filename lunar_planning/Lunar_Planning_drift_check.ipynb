{
 "cells": [
  {
   "cell_type": "markdown",
   "metadata": {},
   "source": [
    "# First thing to do, make a copy of this notebook under File->Make a Copy with some intelligent naming convention.\n",
    "\n",
    "---"
   ]
  },
  {
   "cell_type": "markdown",
   "metadata": {},
   "source": [
    "# Set your observing times here.\n",
    "\n",
    "## NB: This will be a broader window that you'll actually use. The final output will give you orbit-by-orbit pointing information. So you can use a subset of the orbits that are chosen here."
   ]
  },
  {
   "cell_type": "code",
   "execution_count": 1,
   "metadata": {
    "collapsed": false
   },
   "outputs": [],
   "source": [
    "from datetime import datetime\n",
    "import numpy as np\n",
    "tstart = '2017-10-05T10:00:00'\n",
    "tend = '2017-10-06T10:00:00'\n",
    " \n",
    "# Turn these into datetime objects\n",
    "\n",
    "tstart = datetime.strptime(tstart, '%Y-%m-%dT%H:%M:%S')\n",
    "tend = datetime.strptime(tend, '%Y-%m-%dT%H:%M:%S')                "
   ]
  },
  {
   "cell_type": "markdown",
   "metadata": {},
   "source": [
    "---\n",
    "# Step 1, get the nominal RA/Dec Position for the Moon at the start.\n",
    "\n",
    "## We use this to determine what the occultation times are."
   ]
  },
  {
   "cell_type": "code",
   "execution_count": 2,
   "metadata": {
    "collapsed": false
   },
   "outputs": [
    {
     "name": "stdout",
     "output_type": "stream",
     "text": [
      "../orbit_engine/lunar_278to279.sh\n"
     ]
    }
   ],
   "source": [
    "from skyfield.api import Loader\n",
    "from astropy.time import Time\n",
    "import astropy.units as u\n",
    "\n",
    "load = Loader('../../data')\n",
    "\n",
    "ts = load.timescale()\n",
    "planets = load('de436.bsp')\n",
    "\n",
    "astro_time = Time(tstart)\n",
    "t = ts.from_astropy(astro_time)\n",
    "moon, earth = planets['moon'], planets['earth']\n",
    "astrometric = earth.at(t).observe(moon)\n",
    "ra, dec, distance = astrometric.radec()\n",
    "\n",
    "\n",
    "occstring = \"./occ {0:0.4f} {1:0.4f} Latest_TLE.txt {2}:{3}:00:00:00 {4}:{5}:00:00:00 lunar_{3}_{5}.occ\".format(\n",
    "      ra.to(u.deg).value, dec.to(u.deg).value,\n",
    "      tstart.timetuple().tm_year, tstart.timetuple().tm_yday, \n",
    "      tend.timetuple().tm_year, tend.timetuple().tm_yday)\n",
    "\n",
    "\n",
    "outfile = '../orbit_engine/lunar_{0}to{1}.sh'.format(tstart.timetuple().tm_yday, tend.timetuple().tm_yday)\n",
    "print(outfile)\n",
    "\n",
    "f = open(outfile, 'w')\n",
    "f.write(occstring)\n",
    "f.close()\n",
    "\n",
    "\n",
    "import os\n",
    "import stat\n",
    "\n",
    "st = os.stat(outfile)\n",
    "os.chmod(outfile, st.st_mode | stat.S_IEXEC)\n",
    "\n"
   ]
  },
  {
   "cell_type": "markdown",
   "metadata": {},
   "source": [
    "---\n",
    "# Step 2: Go run the code that figures out the unocculted periods for the RA/Dec and the date range reported above.\n",
    "\n",
    "This works on lif. There are example shell scripts in the ../orbit_engine directory that use the version that Karl already compiled for the nuops users.\n",
    "\n",
    "First, get the latest TLE archive:\n",
    "\n",
    "`./get_latest_TLE.sh`\n",
    "\n",
    "Run the script that was produced above.\n"
   ]
  },
  {
   "cell_type": "markdown",
   "metadata": {},
   "source": [
    "# Step 3: Initialize your libraries and parse the resulting occultation file:\n"
   ]
  },
  {
   "cell_type": "code",
   "execution_count": 3,
   "metadata": {
    "collapsed": false
   },
   "outputs": [
    {
     "data": {
      "text/html": [
       "<div>\n",
       "<style>\n",
       "    .dataframe thead tr:only-child th {\n",
       "        text-align: right;\n",
       "    }\n",
       "\n",
       "    .dataframe thead th {\n",
       "        text-align: left;\n",
       "    }\n",
       "\n",
       "    .dataframe tbody tr th {\n",
       "        vertical-align: top;\n",
       "    }\n",
       "</style>\n",
       "<table border=\"1\" class=\"dataframe\">\n",
       "  <thead>\n",
       "    <tr style=\"text-align: right;\">\n",
       "      <th></th>\n",
       "      <th>visible</th>\n",
       "      <th>occulted</th>\n",
       "    </tr>\n",
       "  </thead>\n",
       "  <tbody>\n",
       "    <tr>\n",
       "      <th>0</th>\n",
       "      <td>2017-10-05 01:27:57</td>\n",
       "      <td>2017-10-05 02:23:46</td>\n",
       "    </tr>\n",
       "    <tr>\n",
       "      <th>1</th>\n",
       "      <td>2017-10-05 03:04:37</td>\n",
       "      <td>2017-10-05 04:00:25</td>\n",
       "    </tr>\n",
       "    <tr>\n",
       "      <th>2</th>\n",
       "      <td>2017-10-05 04:41:16</td>\n",
       "      <td>2017-10-05 05:37:05</td>\n",
       "    </tr>\n",
       "    <tr>\n",
       "      <th>3</th>\n",
       "      <td>2017-10-05 06:17:55</td>\n",
       "      <td>2017-10-05 07:13:44</td>\n",
       "    </tr>\n",
       "    <tr>\n",
       "      <th>4</th>\n",
       "      <td>2017-10-05 07:54:35</td>\n",
       "      <td>2017-10-05 08:50:23</td>\n",
       "    </tr>\n",
       "  </tbody>\n",
       "</table>\n",
       "</div>"
      ],
      "text/plain": [
       "               visible             occulted\n",
       "0  2017-10-05 01:27:57  2017-10-05 02:23:46\n",
       "1  2017-10-05 03:04:37  2017-10-05 04:00:25\n",
       "2  2017-10-05 04:41:16  2017-10-05 05:37:05\n",
       "3  2017-10-05 06:17:55  2017-10-05 07:13:44\n",
       "4  2017-10-05 07:54:35  2017-10-05 08:50:23"
      ]
     },
     "execution_count": 3,
     "metadata": {},
     "output_type": "execute_result"
    }
   ],
   "source": [
    "from nustar_planning import io\n",
    "occfile= \"../orbit_engine/lunar_{0}_{1}.occ\".format(tstart.timetuple().tm_yday,tend.timetuple().tm_yday )\n",
    "\n",
    "#print(occfile)\n",
    "orbits = io.parse_occ(occfile)\n",
    "\n",
    "# NB: The \"head\" command here only shows the first couple of rows. Do a \"print(orbits)\" to see them all.\n",
    "orbits.head()\n"
   ]
  },
  {
   "cell_type": "markdown",
   "metadata": {},
   "source": [
    "# Use SkyField to get the location of Jupiter for each orbit:\n",
    "\n",
    "This puts the output into the provided text file. This shows the *aim* time that was used to determine the pointing. You should slew while the source is occulted."
   ]
  },
  {
   "cell_type": "code",
   "execution_count": null,
   "metadata": {
    "collapsed": false,
    "scrolled": true
   },
   "outputs": [],
   "source": [
    "from nustar_planning import lunar_planning\n",
    "outfile = 'lunar_{0}_{1}_pointing.txt'.format(tstart.timetuple().tm_yday,tend.timetuple().tm_yday )\n",
    "lunar_planning.position(orbits, load_path ='../../data',\n",
    "                 parallax_correction=True,\n",
    "                 outfile=outfile, show=True)\n",
    "print(\"Output is stored in: {}\".format(outfile))"
   ]
  },
  {
   "cell_type": "code",
   "execution_count": 4,
   "metadata": {
    "collapsed": true
   },
   "outputs": [],
   "source": [
    "from nustar_planning.lunar_planning import position_shift\n",
    "\n"
   ]
  },
  {
   "cell_type": "code",
   "execution_count": 5,
   "metadata": {
    "collapsed": false,
    "scrolled": false
   },
   "outputs": [
    {
     "name": "stdout",
     "output_type": "stream",
     "text": [
      "First position:\n",
      "2017-10-05T01:27:57 RA: 4.63426  Dec: -2.31234\n",
      "Dwell Time (sec): 770.00 Shift (arcmin): 6.02\n",
      "2017-10-05T01:40:47 RA: 4.54100  Dec: -2.34965\n",
      "\n",
      "Dwell Time (sec): 160.00 Shift (arcmin): 6.16\n",
      "2017-10-05T01:43:27 RA: 4.43829  Dec: -2.34721\n",
      "\n",
      "Dwell Time (sec): 135.00 Shift (arcmin): 6.24\n",
      "2017-10-05T01:45:42 RA: 4.33429  Dec: -2.34184\n",
      "\n",
      "Dwell Time (sec): 120.00 Shift (arcmin): 6.22\n",
      "2017-10-05T01:47:42 RA: 4.23080  Dec: -2.33448\n",
      "\n",
      "Dwell Time (sec): 110.00 Shift (arcmin): 6.15\n",
      "2017-10-05T01:49:32 RA: 4.12870  Dec: -2.32559\n",
      "\n",
      "Dwell Time (sec): 105.00 Shift (arcmin): 6.16\n",
      "2017-10-05T01:51:17 RA: 4.02643  Dec: -2.31525\n",
      "\n",
      "Dwell Time (sec): 100.00 Shift (arcmin): 6.05\n",
      "2017-10-05T01:52:57 RA: 3.92614  Dec: -2.30376\n",
      "\n",
      "Dwell Time (sec): 100.00 Shift (arcmin): 6.14\n",
      "2017-10-05T01:54:37 RA: 3.82450  Dec: -2.29075\n",
      "\n",
      "Dwell Time (sec): 100.00 Shift (arcmin): 6.15\n",
      "2017-10-05T01:56:17 RA: 3.72294  Dec: -2.27633\n",
      "\n",
      "Dwell Time (sec): 100.00 Shift (arcmin): 6.07\n",
      "2017-10-05T01:57:57 RA: 3.62290  Dec: -2.26060\n",
      "\n",
      "Dwell Time (sec): 105.00 Shift (arcmin): 6.20\n",
      "2017-10-05T01:59:42 RA: 3.52104  Dec: -2.24284\n",
      "\n",
      "Dwell Time (sec): 110.00 Shift (arcmin): 6.20\n",
      "2017-10-05T02:01:32 RA: 3.41954  Dec: -2.22303\n",
      "\n",
      "Dwell Time (sec): 115.00 Shift (arcmin): 6.05\n",
      "2017-10-05T02:03:27 RA: 3.32098  Dec: -2.20125\n",
      "\n",
      "Dwell Time (sec): 130.00 Shift (arcmin): 6.18\n",
      "2017-10-05T02:05:37 RA: 3.22113  Dec: -2.17564\n",
      "\n",
      "Dwell Time (sec): 150.00 Shift (arcmin): 6.09\n",
      "2017-10-05T02:08:07 RA: 3.12415  Dec: -2.14527\n",
      "\n",
      "Dwell Time (sec): 195.00 Shift (arcmin): 6.02\n",
      "2017-10-05T02:11:22 RA: 3.03208  Dec: -2.10549\n",
      "\n",
      "Dwell Time (sec): 500.00 Shift (arcmin): 6.02\n",
      "2017-10-05T02:19:42 RA: 2.99914  Dec: -2.01067\n",
      "\n",
      "\n"
     ]
    }
   ],
   "source": [
    "# PA == 0 (default), Rmoon = 940 arcseconds (default), 6 arcminutes maximum drift (default) and\n",
    "# no minimum dwell period (default)\n",
    "\n",
    "position_shift(orbits, parallax_correction=True)"
   ]
  },
  {
   "cell_type": "code",
   "execution_count": 6,
   "metadata": {
    "collapsed": false
   },
   "outputs": [
    {
     "name": "stdout",
     "output_type": "stream",
     "text": [
      "Dwell Time (sec): 770.00 Shift (arcmin): 6.02\n",
      "2017-10-05T01:40:47 RA: 4.41174  Dec: -2.31226\n",
      "\n",
      "Dwell Time (sec): 205.00 Shift (arcmin): 8.14\n",
      "2017-10-05T01:44:12 RA: 4.27600  Dec: -2.30837\n",
      "\n",
      "Dwell Time (sec): 205.00 Shift (arcmin): 10.21\n",
      "2017-10-05T01:47:37 RA: 4.10604  Dec: -2.29744\n",
      "\n",
      "Dwell Time (sec): 205.00 Shift (arcmin): 11.68\n",
      "2017-10-05T01:51:02 RA: 3.91201  Dec: -2.27945\n",
      "\n",
      "Dwell Time (sec): 205.00 Shift (arcmin): 12.48\n",
      "2017-10-05T01:54:27 RA: 3.70544  Dec: -2.25473\n",
      "\n",
      "Dwell Time (sec): 205.00 Shift (arcmin): 12.54\n",
      "2017-10-05T01:57:52 RA: 3.49860  Dec: -2.22403\n",
      "\n",
      "Dwell Time (sec): 205.00 Shift (arcmin): 11.88\n",
      "2017-10-05T02:01:17 RA: 3.30376  Dec: -2.18841\n",
      "\n",
      "Dwell Time (sec): 205.00 Shift (arcmin): 10.54\n",
      "2017-10-05T02:04:42 RA: 3.13249  Dec: -2.14919\n",
      "\n",
      "Dwell Time (sec): 205.00 Shift (arcmin): 8.61\n",
      "2017-10-05T02:08:07 RA: 2.99492  Dec: -2.10788\n",
      "\n",
      "Dwell Time (sec): 205.00 Shift (arcmin): 6.26\n",
      "2017-10-05T02:11:32 RA: 2.89925  Dec: -2.06608\n",
      "\n",
      "Dwell Time (sec): 520.00 Shift (arcmin): 6.01\n",
      "2017-10-05T02:20:12 RA: 2.87770  Dec: -1.96823\n",
      "\n",
      "\n"
     ]
    }
   ],
   "source": [
    "# PA == 30, Rmoon = 930 arcseconds, 6 arcminutes maximum drift (default) and\n",
    "# a minimum dwell period of 200 seconds (default):\n",
    "position_shift(orbits, parallax_correction=True, Rmoon=930*u.arcsec, \n",
    "              min_dwell=200*u.s, pa = 30*u.deg)\n"
   ]
  },
  {
   "cell_type": "code",
   "execution_count": null,
   "metadata": {
    "collapsed": false
   },
   "outputs": [],
   "source": [
    "# Test PA = 0 vs PA 180\n",
    "ra = 4.5574242917772985\n",
    "dec = -2.349650003454101\n",
    "test = SkyCoord(ra, dec, unit=u.deg)\n",
    "\n",
    "ra = 4.5574242917772985\n",
    "dec =-1.8274277812318789\n",
    "test2 = SkyCoord(ra, dec, unit=u.deg)\n",
    "\n",
    "dr = test.separation(test2)\n",
    "dr"
   ]
  },
  {
   "cell_type": "code",
   "execution_count": null,
   "metadata": {
    "collapsed": false
   },
   "outputs": [],
   "source": [
    "# Test PA 90 vs PA 270\n",
    "ra = 4.296139610238649\n",
    "dec = -2.08853889234299\n",
    "test = SkyCoord(ra, dec, unit=u.deg)\n",
    "ra = 4.818708973315948 \n",
    "dec =-2.08853889234299\n",
    "test2 = SkyCoord(ra, dec, unit=u.deg)\n",
    "test2.separation(test)"
   ]
  },
  {
   "cell_type": "code",
   "execution_count": null,
   "metadata": {
    "collapsed": true
   },
   "outputs": [],
   "source": []
  }
 ],
 "metadata": {
  "anaconda-cloud": {},
  "kernelspec": {
   "display_name": "Python [default]",
   "language": "python",
   "name": "python3"
  },
  "language_info": {
   "codemirror_mode": {
    "name": "ipython",
    "version": 3
   },
   "file_extension": ".py",
   "mimetype": "text/x-python",
   "name": "python",
   "nbconvert_exporter": "python",
   "pygments_lexer": "ipython3",
   "version": "3.5.1"
  }
 },
 "nbformat": 4,
 "nbformat_minor": 2
}
