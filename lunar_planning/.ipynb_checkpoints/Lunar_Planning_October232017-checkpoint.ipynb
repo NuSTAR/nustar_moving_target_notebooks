{
 "cells": [
  {
   "cell_type": "markdown",
   "metadata": {},
   "source": [
    "# First thing to do, make a copy of this notebook under File->Make a Copy with some intelligent naming convention.\n",
    "\n",
    "---"
   ]
  },
  {
   "cell_type": "markdown",
   "metadata": {},
   "source": [
    "# Set your observing times here.\n",
    "\n",
    "## NB: This will be a broader window that you'll actually use. The final output will give you orbit-by-orbit pointing information. So you can use a subset of the orbits that are chosen here."
   ]
  },
  {
   "cell_type": "code",
   "execution_count": 1,
   "metadata": {
    "collapsed": false
   },
   "outputs": [],
   "source": [
    "from datetime import datetime\n",
    "import numpy as np\n",
    "tstart = '2017-10-23T00:00:00'\n",
    "tend = '2017-10-24T00:00:00'\n",
    " \n",
    "# Turn these into datetime objects\n",
    "\n",
    "tstart = datetime.strptime(tstart, '%Y-%m-%dT%H:%M:%S')\n",
    "tend = datetime.strptime(tend, '%Y-%m-%dT%H:%M:%S')                "
   ]
  },
  {
   "cell_type": "markdown",
   "metadata": {},
   "source": [
    "---\n",
    "# Step 1, get the nominal RA/Dec Position for the Moon at the start.\n",
    "\n",
    "## We use this to determine what the occultation times are."
   ]
  },
  {
   "cell_type": "code",
   "execution_count": 2,
   "metadata": {
    "collapsed": false
   },
   "outputs": [
    {
     "name": "stdout",
     "output_type": "stream",
     "text": [
      "../orbit_engine/lunar_296to297.sh\n"
     ]
    }
   ],
   "source": [
    "from skyfield.api import Loader\n",
    "from astropy.time import Time\n",
    "import astropy.units as u\n",
    "\n",
    "load = Loader('../../data')\n",
    "\n",
    "ts = load.timescale()\n",
    "planets = load('de436.bsp')\n",
    "\n",
    "astro_time = Time(tstart)\n",
    "t = ts.from_astropy(astro_time)\n",
    "moon, earth = planets['moon'], planets['earth']\n",
    "astrometric = earth.at(t).observe(moon)\n",
    "ra, dec, distance = astrometric.radec()\n",
    "\n",
    "\n",
    "occstring = \"./occ {0:0.4f} {1:0.4f} Latest_TLE.txt {2}:{3}:00:00:00 {4}:{5}:00:00:00 lunar_{3}_{5}.occ\".format(\n",
    "      ra.to(u.deg).value, dec.to(u.deg).value,\n",
    "      tstart.timetuple().tm_year, tstart.timetuple().tm_yday, \n",
    "      tend.timetuple().tm_year, tend.timetuple().tm_yday)\n",
    "\n",
    "\n",
    "outfile = '../orbit_engine/lunar_{0}to{1}.sh'.format(tstart.timetuple().tm_yday, tend.timetuple().tm_yday)\n",
    "print(outfile)\n",
    "\n",
    "f = open(outfile, 'w')\n",
    "f.write(occstring)\n",
    "f.close()\n",
    "\n",
    "\n",
    "import os\n",
    "import stat\n",
    "\n",
    "st = os.stat(outfile)\n",
    "os.chmod(outfile, st.st_mode | stat.S_IEXEC)\n",
    "\n"
   ]
  },
  {
   "cell_type": "markdown",
   "metadata": {},
   "source": [
    "---\n",
    "# Step 2: Go run the code that figures out the unocculted periods for the RA/Dec and the date range reported above.\n",
    "\n",
    "This works on lif. There are example shell scripts in the ../orbit_engine directory that use the version that Karl already compiled for the nuops users.\n",
    "\n",
    "First, get the latest TLE archive:\n",
    "\n",
    "`./get_latest_TLE.sh`\n",
    "\n",
    "Run the script that was produced above.\n"
   ]
  },
  {
   "cell_type": "markdown",
   "metadata": {},
   "source": [
    "# Step 3: Initialize your libraries and parse the resulting occultation file:\n"
   ]
  },
  {
   "cell_type": "code",
   "execution_count": 3,
   "metadata": {
    "collapsed": false
   },
   "outputs": [
    {
     "data": {
      "text/html": [
       "<div>\n",
       "<style>\n",
       "    .dataframe thead tr:only-child th {\n",
       "        text-align: right;\n",
       "    }\n",
       "\n",
       "    .dataframe thead th {\n",
       "        text-align: left;\n",
       "    }\n",
       "\n",
       "    .dataframe tbody tr th {\n",
       "        vertical-align: top;\n",
       "    }\n",
       "</style>\n",
       "<table border=\"1\" class=\"dataframe\">\n",
       "  <thead>\n",
       "    <tr style=\"text-align: right;\">\n",
       "      <th></th>\n",
       "      <th>visible</th>\n",
       "      <th>occulted</th>\n",
       "    </tr>\n",
       "  </thead>\n",
       "  <tbody>\n",
       "    <tr>\n",
       "      <th>0</th>\n",
       "      <td>2017-10-23 00:38:39</td>\n",
       "      <td>2017-10-23 01:35:01</td>\n",
       "    </tr>\n",
       "    <tr>\n",
       "      <th>1</th>\n",
       "      <td>2017-10-23 02:15:19</td>\n",
       "      <td>2017-10-23 03:11:41</td>\n",
       "    </tr>\n",
       "    <tr>\n",
       "      <th>2</th>\n",
       "      <td>2017-10-23 03:51:58</td>\n",
       "      <td>2017-10-23 04:48:20</td>\n",
       "    </tr>\n",
       "    <tr>\n",
       "      <th>3</th>\n",
       "      <td>2017-10-23 05:28:38</td>\n",
       "      <td>2017-10-23 06:25:00</td>\n",
       "    </tr>\n",
       "    <tr>\n",
       "      <th>4</th>\n",
       "      <td>2017-10-23 07:05:17</td>\n",
       "      <td>2017-10-23 08:01:39</td>\n",
       "    </tr>\n",
       "  </tbody>\n",
       "</table>\n",
       "</div>"
      ],
      "text/plain": [
       "               visible             occulted\n",
       "0  2017-10-23 00:38:39  2017-10-23 01:35:01\n",
       "1  2017-10-23 02:15:19  2017-10-23 03:11:41\n",
       "2  2017-10-23 03:51:58  2017-10-23 04:48:20\n",
       "3  2017-10-23 05:28:38  2017-10-23 06:25:00\n",
       "4  2017-10-23 07:05:17  2017-10-23 08:01:39"
      ]
     },
     "execution_count": 3,
     "metadata": {},
     "output_type": "execute_result"
    }
   ],
   "source": [
    "from nustar_planning import io\n",
    "occfile= \"../orbit_engine/lunar_{0}_{1}.occ\".format(tstart.timetuple().tm_yday,tend.timetuple().tm_yday )\n",
    "\n",
    "#print(occfile)\n",
    "orbits = io.parse_occ(occfile)\n",
    "\n",
    "# NB: The \"head\" command here only shows the first couple of rows. Do a \"print(orbits)\" to see them all.\n",
    "orbits.head()\n"
   ]
  },
  {
   "cell_type": "code",
   "execution_count": 4,
   "metadata": {
    "collapsed": false
   },
   "outputs": [
    {
     "data": {
      "text/plain": [
       "<module 'nustar_planning.lunar_planning' from '/Users/bwgref/science/local/anaconda/lib/python3.5/site-packages/nustar_planning-0.1.dev49-py3.5.egg/nustar_planning/lunar_planning.py'>"
      ]
     },
     "execution_count": 4,
     "metadata": {},
     "output_type": "execute_result"
    }
   ],
   "source": [
    "#from nustar_planning.lunar_planning import position, position_shift\n",
    "import nustar_planning.lunar_planning as lunar_planning\n",
    "from importlib import reload\n",
    "reload(lunar_planning)"
   ]
  },
  {
   "cell_type": "code",
   "execution_count": 9,
   "metadata": {
    "collapsed": false
   },
   "outputs": [
    {
     "name": "stdout",
     "output_type": "stream",
     "text": [
      "Aim Time            RA         Dec\n",
      "2017-10-23T07:05:17 248.45481  -17.11902\n",
      "2017-10-23T07:24:04.333333 248.61562  -17.14604\n",
      "2017-10-23T07:42:51.666667 248.77645  -17.17294\n"
     ]
    }
   ],
   "source": [
    "reload(lunar_planning)\n",
    "sub = orbits.iloc[4:5].reset_index()\n",
    "lunar_planning.position(sub, steps = 3)"
   ]
  },
  {
   "cell_type": "code",
   "execution_count": 10,
   "metadata": {
    "collapsed": false,
    "scrolled": false
   },
   "outputs": [
    {
     "name": "stdout",
     "output_type": "stream",
     "text": [
      "Dwell Time (sec): 190.00 Shift (arcmin): 6.12\n",
      "2017-10-23T07:08:27 RA: 249.61251  Dec: -16.93499\n",
      "\n",
      "Dwell Time (sec): 250.00 Shift (arcmin): 6.07\n",
      "2017-10-23T07:12:37 RA: 249.63949  Dec: -17.03282\n",
      "\n",
      "Dwell Time (sec): 255.00 Shift (arcmin): 6.09\n",
      "2017-10-23T07:16:52 RA: 249.59018  Dec: -17.12264\n",
      "\n",
      "Dwell Time (sec): 195.00 Shift (arcmin): 6.06\n",
      "2017-10-23T07:20:07 RA: 249.50338  Dec: -17.18039\n",
      "\n",
      "Dwell Time (sec): 160.00 Shift (arcmin): 6.14\n",
      "2017-10-23T07:22:47 RA: 249.40397  Dec: -17.21867\n",
      "\n",
      "Dwell Time (sec): 140.00 Shift (arcmin): 6.20\n",
      "2017-10-23T07:25:07 RA: 249.29915  Dec: -17.24443\n",
      "\n",
      "Dwell Time (sec): 125.00 Shift (arcmin): 6.10\n",
      "2017-10-23T07:27:12 RA: 249.19395  Dec: -17.26081\n",
      "\n",
      "Dwell Time (sec): 120.00 Shift (arcmin): 6.27\n",
      "2017-10-23T07:29:12 RA: 249.08488  Dec: -17.27037\n",
      "\n",
      "Dwell Time (sec): 110.00 Shift (arcmin): 6.01\n",
      "2017-10-23T07:31:02 RA: 248.97985  Dec: -17.27372\n",
      "\n",
      "Dwell Time (sec): 110.00 Shift (arcmin): 6.18\n",
      "2017-10-23T07:32:52 RA: 248.87184  Dec: -17.27184\n",
      "\n",
      "Dwell Time (sec): 110.00 Shift (arcmin): 6.26\n",
      "2017-10-23T07:34:42 RA: 248.76267  Dec: -17.26480\n",
      "\n",
      "Dwell Time (sec): 110.00 Shift (arcmin): 6.25\n",
      "2017-10-23T07:36:32 RA: 248.65421  Dec: -17.25274\n",
      "\n",
      "Dwell Time (sec): 110.00 Shift (arcmin): 6.14\n",
      "2017-10-23T07:38:22 RA: 248.54829  Dec: -17.23588\n",
      "\n",
      "Dwell Time (sec): 115.00 Shift (arcmin): 6.22\n",
      "2017-10-23T07:40:17 RA: 248.44223  Dec: -17.21345\n",
      "\n",
      "Dwell Time (sec): 120.00 Shift (arcmin): 6.16\n",
      "2017-10-23T07:42:17 RA: 248.33875  Dec: -17.18526\n",
      "\n",
      "Dwell Time (sec): 130.00 Shift (arcmin): 6.18\n",
      "2017-10-23T07:44:27 RA: 248.23732  Dec: -17.14987\n",
      "\n",
      "Dwell Time (sec): 145.00 Shift (arcmin): 6.17\n",
      "2017-10-23T07:46:52 RA: 248.14015  Dec: -17.10543\n",
      "\n",
      "Dwell Time (sec): 170.00 Shift (arcmin): 6.13\n",
      "2017-10-23T07:49:42 RA: 248.05140  Dec: -17.04833\n",
      "\n",
      "Dwell Time (sec): 215.00 Shift (arcmin): 6.03\n",
      "2017-10-23T07:53:17 RA: 247.98337  Dec: -16.97166\n",
      "\n",
      "Dwell Time (sec): 280.00 Shift (arcmin): 6.03\n",
      "2017-10-23T07:57:57 RA: 247.97574  Dec: -16.87143\n",
      "\n",
      "\n"
     ]
    }
   ],
   "source": [
    "# PA == 0 (default), Rmoon = 940 arcseconds (default), 6 arcminutes maximum drift (default) and\n",
    "# no minimum dwell period (default)\n",
    "\n",
    "lunar_planning.position_shift(sub, parallax_correction=True, pa = 202.3*u.deg, dt = 3*u.s)"
   ]
  },
  {
   "cell_type": "code",
   "execution_count": null,
   "metadata": {
    "collapsed": false
   },
   "outputs": [],
   "source": [
    "# PA == 30, Rmoon = 930 arcseconds, 6 arcminutes maximum drift (default) and\n",
    "# a minimum dwell period of 200 seconds (default):\n",
    "position_shift(orbits, parallax_correction=True, Rmoon=930*u.arcsec, \n",
    "              min_dwell=200*u.s, pa = 30*u.deg)\n"
   ]
  },
  {
   "cell_type": "code",
   "execution_count": null,
   "metadata": {
    "collapsed": false
   },
   "outputs": [],
   "source": [
    "# Test PA = 0 vs PA 180\n",
    "ra = 4.5574242917772985\n",
    "dec = -2.349650003454101\n",
    "test = SkyCoord(ra, dec, unit=u.deg)\n",
    "\n",
    "ra = 4.5574242917772985\n",
    "dec =-1.8274277812318789\n",
    "test2 = SkyCoord(ra, dec, unit=u.deg)\n",
    "\n",
    "dr = test.separation(test2)\n",
    "dr"
   ]
  },
  {
   "cell_type": "code",
   "execution_count": null,
   "metadata": {
    "collapsed": false
   },
   "outputs": [],
   "source": [
    "# Test PA 90 vs PA 270\n",
    "ra = 4.296139610238649\n",
    "dec = -2.08853889234299\n",
    "test = SkyCoord(ra, dec, unit=u.deg)\n",
    "ra = 4.818708973315948 \n",
    "dec =-2.08853889234299\n",
    "test2 = SkyCoord(ra, dec, unit=u.deg)\n",
    "test2.separation(test)"
   ]
  },
  {
   "cell_type": "code",
   "execution_count": null,
   "metadata": {
    "collapsed": true
   },
   "outputs": [],
   "source": []
  }
 ],
 "metadata": {
  "anaconda-cloud": {},
  "kernelspec": {
   "display_name": "Python [default]",
   "language": "python",
   "name": "python3"
  },
  "language_info": {
   "codemirror_mode": {
    "name": "ipython",
    "version": 3
   },
   "file_extension": ".py",
   "mimetype": "text/x-python",
   "name": "python",
   "nbconvert_exporter": "python",
   "pygments_lexer": "ipython3",
   "version": "3.5.1"
  }
 },
 "nbformat": 4,
 "nbformat_minor": 2
}
