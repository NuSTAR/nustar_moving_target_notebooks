{
 "cells": [
  {
   "cell_type": "markdown",
   "metadata": {},
   "source": [
    "# First thing to do, make a copy of this notebook under File->Make a Copy with some intelligent naming convention.\n",
    "\n",
    "---"
   ]
  },
  {
   "cell_type": "markdown",
   "metadata": {},
   "source": [
    "# Set your observing times here.\n",
    "\n",
    "## NB: This will be a broader window that you'll actually use. The final output will give you orbit-by-orbit pointing information. So you can use a subset of the orbits that are chosen here."
   ]
  },
  {
   "cell_type": "code",
   "execution_count": 1,
   "metadata": {
    "collapsed": false
   },
   "outputs": [],
   "source": [
    "from datetime import datetime\n",
    "import numpy as np\n",
    "\n",
    "# Note that tstart and tend should span for at least one day because of the way the scripts are written.\n",
    "tstart = '2018-01-12T00:00:00'\n",
    "tend = '2018-01-13T00:00:00'\n",
    "\n",
    "ttarget = '2018-01-12T21:54:00'\n",
    "\n",
    "# Turn these into datetime objects\n",
    "\n",
    "tstart = datetime.strptime(tstart, '%Y-%m-%dT%H:%M:%S')\n",
    "tend = datetime.strptime(tend, '%Y-%m-%dT%H:%M:%S')\n",
    "ttarget = datetime.strptime(ttarget,'%Y-%m-%dT%H:%M:%S')\n",
    "\n",
    "\n",
    "# Get the Sky PA from external code:\n",
    "\n",
    "sky_pa = 170.\n"
   ]
  },
  {
   "cell_type": "markdown",
   "metadata": {},
   "source": [
    "---\n",
    "# Step 1, get the nominal RA/Dec Position for the Moon at the start.\n",
    "\n",
    "## We use this to determine what the occultation times are."
   ]
  },
  {
   "cell_type": "code",
   "execution_count": 2,
   "metadata": {
    "collapsed": false
   },
   "outputs": [
    {
     "name": "stdout",
     "output_type": "stream",
     "text": [
      "../orbit_engine/lunar_12to13.sh\n"
     ]
    }
   ],
   "source": [
    "from skyfield.api import Loader\n",
    "from astropy.time import Time\n",
    "import astropy.units as u\n",
    "\n",
    "load = Loader('../../data')\n",
    "\n",
    "ts = load.timescale()\n",
    "planets = load('de436.bsp')\n",
    "\n",
    "astro_time = Time(ttarget)\n",
    "t = ts.from_astropy(astro_time)\n",
    "moon, earth = planets['moon'], planets['earth']\n",
    "astrometric = earth.at(t).observe(moon)\n",
    "ra, dec, distance = astrometric.radec()\n",
    "\n",
    "\n",
    "occstring = \"./occ {0:0.4f} {1:0.4f} Latest_TLE.txt {2}:{3:03d}:00:00:00 {4}:{5:03d}:00:00:00 lunar_{3}_{5}.occ\".format(\n",
    "      ra.to(u.deg).value, dec.to(u.deg).value,\n",
    "      tstart.timetuple().tm_year, tstart.timetuple().tm_yday, \n",
    "      tend.timetuple().tm_year, tend.timetuple().tm_yday)\n",
    "\n",
    "\n",
    "outfile = '../orbit_engine/lunar_{0}to{1}.sh'.format(tstart.timetuple().tm_yday, tend.timetuple().tm_yday)\n",
    "print(outfile)\n",
    "\n",
    "f = open(outfile, 'w')\n",
    "f.write(occstring)\n",
    "f.close()\n",
    "\n",
    "\n",
    "import os\n",
    "import stat\n",
    "\n",
    "st = os.stat(outfile)\n",
    "os.chmod(outfile, st.st_mode | stat.S_IEXEC)\n",
    "\n"
   ]
  },
  {
   "cell_type": "markdown",
   "metadata": {},
   "source": [
    "---\n",
    "# Step 2: Go run the code that figures out the unocculted periods for the RA/Dec and the date range reported above.\n",
    "\n",
    "This works on lif. There are example shell scripts in the ../orbit_engine directory that use the version that Karl already compiled for the nuops users.\n",
    "\n",
    "First, get the latest TLE archive:\n",
    "\n",
    "`./get_latest_TLE.sh`\n",
    "\n",
    "Run the script that was produced above.\n"
   ]
  },
  {
   "cell_type": "markdown",
   "metadata": {},
   "source": [
    "# Step 3: Initialize your libraries and parse the resulting occultation file:\n"
   ]
  },
  {
   "cell_type": "code",
   "execution_count": 3,
   "metadata": {
    "collapsed": false
   },
   "outputs": [
    {
     "data": {
      "text/html": [
       "<div>\n",
       "<style>\n",
       "    .dataframe thead tr:only-child th {\n",
       "        text-align: right;\n",
       "    }\n",
       "\n",
       "    .dataframe thead th {\n",
       "        text-align: left;\n",
       "    }\n",
       "\n",
       "    .dataframe tbody tr th {\n",
       "        vertical-align: top;\n",
       "    }\n",
       "</style>\n",
       "<table border=\"1\" class=\"dataframe\">\n",
       "  <thead>\n",
       "    <tr style=\"text-align: right;\">\n",
       "      <th></th>\n",
       "      <th>visible</th>\n",
       "      <th>occulted</th>\n",
       "    </tr>\n",
       "  </thead>\n",
       "  <tbody>\n",
       "    <tr>\n",
       "      <th>0</th>\n",
       "      <td>2018-01-12 00:58:23</td>\n",
       "      <td>2018-01-12 01:54:33</td>\n",
       "    </tr>\n",
       "    <tr>\n",
       "      <th>1</th>\n",
       "      <td>2018-01-12 02:35:02</td>\n",
       "      <td>2018-01-12 03:31:12</td>\n",
       "    </tr>\n",
       "    <tr>\n",
       "      <th>2</th>\n",
       "      <td>2018-01-12 04:11:41</td>\n",
       "      <td>2018-01-12 05:07:52</td>\n",
       "    </tr>\n",
       "    <tr>\n",
       "      <th>3</th>\n",
       "      <td>2018-01-12 05:48:20</td>\n",
       "      <td>2018-01-12 06:44:31</td>\n",
       "    </tr>\n",
       "    <tr>\n",
       "      <th>4</th>\n",
       "      <td>2018-01-12 07:24:59</td>\n",
       "      <td>2018-01-12 08:21:10</td>\n",
       "    </tr>\n",
       "  </tbody>\n",
       "</table>\n",
       "</div>"
      ],
      "text/plain": [
       "               visible             occulted\n",
       "0  2018-01-12 00:58:23  2018-01-12 01:54:33\n",
       "1  2018-01-12 02:35:02  2018-01-12 03:31:12\n",
       "2  2018-01-12 04:11:41  2018-01-12 05:07:52\n",
       "3  2018-01-12 05:48:20  2018-01-12 06:44:31\n",
       "4  2018-01-12 07:24:59  2018-01-12 08:21:10"
      ]
     },
     "execution_count": 3,
     "metadata": {},
     "output_type": "execute_result"
    }
   ],
   "source": [
    "from nustar_planning import io\n",
    "occfile= \"../orbit_engine/lunar_{0}_{1}.occ\".format(tstart.timetuple().tm_yday,tend.timetuple().tm_yday )\n",
    "\n",
    "#print(occfile)\n",
    "orbits = io.parse_occ(occfile)\n",
    "\n",
    "# NB: The \"head\" command here only shows the first couple of rows. Do a \"print(orbits)\" to see them all.\n",
    "orbits.head()\n"
   ]
  },
  {
   "cell_type": "code",
   "execution_count": 4,
   "metadata": {
    "collapsed": false
   },
   "outputs": [],
   "source": [
    "import nustar_planning.lunar_planning as lunar_planning"
   ]
  },
  {
   "cell_type": "code",
   "execution_count": 5,
   "metadata": {
    "collapsed": false
   },
   "outputs": [
    {
     "name": "stdout",
     "output_type": "stream",
     "text": [
      "Aim Time            RA         Dec\n",
      "2018-01-12T21:54:50 247.14594  -16.53041\n",
      "2018-01-12T22:06:04.600000 247.20129  -16.77891\n",
      "2018-01-12T22:17:19.200000 246.77068  -17.00746\n",
      "2018-01-12T22:28:33.800000 246.12057  -17.10167\n",
      "2018-01-12T22:39:48.400000 245.64668  -17.02015\n"
     ]
    }
   ],
   "source": [
    "# Sanity check to make sure you havde the correct orbit(s)\n",
    "\n",
    "sub = orbits.iloc[13:].reset_index()\n",
    "lunar_planning.position(sub, steps = 5, parallax_correction=True)"
   ]
  },
  {
   "cell_type": "code",
   "execution_count": 7,
   "metadata": {
    "collapsed": false,
    "scrolled": false
   },
   "outputs": [
    {
     "name": "stderr",
     "output_type": "stream",
     "text": [
      "[#################################] 100% de436.bsp\n",
      "[#################################] 100% deltat.data\n",
      "[#################################] 100% deltat.preds\n",
      "[#################################] 100% Leap_Second.dat\n"
     ]
    },
    {
     "name": "stdout",
     "output_type": "stream",
     "text": [
      "2018:012:21:49:50 RA: 247.00491  Dec: -16.22364\n",
      "\n",
      "2018:012:21:52:05 RA: 247.09720  Dec: -16.27230\n",
      "\n",
      "2018:012:21:54:47 RA: 247.17222  Dec: -16.34284\n",
      "\n",
      "2018:012:21:58:14 RA: 247.19450  Dec: -16.44060\n",
      "\n",
      "2018:012:22:02:35 RA: 247.14696  Dec: -16.53001\n",
      "\n",
      "2018:012:22:06:26 RA: 247.06873  Dec: -16.59799\n",
      "\n",
      "2018:012:22:09:26 RA: 246.97877  Dec: -16.65150\n",
      "\n",
      "2018:012:22:11:56 RA: 246.88338  Dec: -16.69504\n",
      "\n",
      "2018:012:22:14:08 RA: 246.78552  Dec: -16.73094\n",
      "\n",
      "2018:012:22:16:08 RA: 246.68457  Dec: -16.76122\n",
      "\n",
      "2018:012:22:18:02 RA: 246.58060  Dec: -16.78669\n",
      "\n",
      "2018:012:22:19:53 RA: 246.47578  Dec: -16.80732\n",
      "\n",
      "2018:012:22:21:41 RA: 246.37207  Dec: -16.82320\n",
      "\n",
      "2018:012:22:23:26 RA: 246.26525  Dec: -16.83503\n",
      "\n",
      "2018:012:22:25:14 RA: 246.16002  Dec: -16.84218\n",
      "\n",
      "2018:012:22:27:02 RA: 246.05536  Dec: -16.84458\n",
      "\n",
      "2018:012:22:28:53 RA: 245.94826  Dec: -16.84157\n",
      "\n",
      "2018:012:22:30:53 RA: 245.84257  Dec: -16.83200\n",
      "\n",
      "2018:012:22:33:02 RA: 245.73911  Dec: -16.81391\n",
      "\n",
      "2018:012:22:35:26 RA: 245.63866  Dec: -16.78253\n",
      "\n",
      "2018:012:22:38:20 RA: 245.55228  Dec: -16.72552\n",
      "\n",
      "2018:012:22:42:17 RA: 245.54077  Dec: -16.62582\n",
      "\n",
      "2018:012:22:47:50 RA: 245.61063  Dec: -16.55004\n",
      "\n",
      "2018:012:22:51:41 RA: 245.69985  Dec: -16.49488\n",
      "\n",
      "\n",
      "Output is stored in: lunar_12_13_pointing.txt\n"
     ]
    }
   ],
   "source": [
    "# PA == 0 (default), Rmoon = 940 arcseconds (default), 6 arcminutes maximum drift (default) and\n",
    "# no minimum dwell period (default)\n",
    "outfile = 'lunar_{0}_{1}_pointing.txt'.format(tstart.timetuple().tm_yday,tend.timetuple().tm_yday )\n",
    "lunar_planning.position_shift(sub, parallax_correction=True, pa = 170.0*u.deg, dt = 3*u.s,\n",
    "                              outfile=outfile, load_path ='../data')\n",
    "print(\"Output is stored in: {}\".format(outfile))"
   ]
  },
  {
   "cell_type": "code",
   "execution_count": null,
   "metadata": {
    "collapsed": false
   },
   "outputs": [],
   "source": [
    "df3 = pd.read_csv('lunar_20171023_v3.txt', sep='\\s+', skiprows=1, header=None, names=['Date', 'RA', 'Dec'])\n",
    "df4 = pd.read_csv('lunar_20171023_v4.txt', sep='\\s+', skiprows=1, header=None, names=['Date', 'RA', 'Dec'])\n",
    "\n"
   ]
  },
  {
   "cell_type": "code",
   "execution_count": null,
   "metadata": {
    "collapsed": false
   },
   "outputs": [],
   "source": [
    "from astropy.coordinates import SkyCoord"
   ]
  },
  {
   "cell_type": "code",
   "execution_count": null,
   "metadata": {
    "collapsed": false
   },
   "outputs": [],
   "source": [
    "skypos3 = SkyCoord(df3.RA, df3.Dec,  unit=\"deg\")\n",
    "skypos4 = SkyCoord(df4.RA, df4.Dec,  unit=\"deg\")\n",
    "\n"
   ]
  },
  {
   "cell_type": "code",
   "execution_count": null,
   "metadata": {
    "collapsed": false
   },
   "outputs": [],
   "source": [
    "for ind, pos3 in enumerate(skypos3):\n",
    "    diff = pos3.separation(skypos4[ind])\n",
    "    print(diff.arcsec)\n",
    "    "
   ]
  },
  {
   "cell_type": "code",
   "execution_count": null,
   "metadata": {
    "collapsed": true
   },
   "outputs": [],
   "source": []
  }
 ],
 "metadata": {
  "anaconda-cloud": {},
  "kernelspec": {
   "display_name": "Python [default]",
   "language": "python",
   "name": "python3"
  },
  "language_info": {
   "codemirror_mode": {
    "name": "ipython",
    "version": 3
   },
   "file_extension": ".py",
   "mimetype": "text/x-python",
   "name": "python",
   "nbconvert_exporter": "python",
   "pygments_lexer": "ipython3",
   "version": "3.5.1"
  }
 },
 "nbformat": 4,
 "nbformat_minor": 2
}
