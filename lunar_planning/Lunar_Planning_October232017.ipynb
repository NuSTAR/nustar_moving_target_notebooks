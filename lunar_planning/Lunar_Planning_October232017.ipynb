{
 "cells": [
  {
   "cell_type": "markdown",
   "metadata": {},
   "source": [
    "# First thing to do, make a copy of this notebook under File->Make a Copy with some intelligent naming convention.\n",
    "\n",
    "---"
   ]
  },
  {
   "cell_type": "markdown",
   "metadata": {},
   "source": [
    "# Set your observing times here.\n",
    "\n",
    "## NB: This will be a broader window that you'll actually use. The final output will give you orbit-by-orbit pointing information. So you can use a subset of the orbits that are chosen here."
   ]
  },
  {
   "cell_type": "code",
   "execution_count": 1,
   "metadata": {
    "collapsed": false
   },
   "outputs": [],
   "source": [
    "from datetime import datetime\n",
    "import numpy as np\n",
    "tstart = '2017-10-23T00:00:00'\n",
    "tend = '2017-10-24T00:00:00'\n",
    " \n",
    "# Turn these into datetime objects\n",
    "\n",
    "tstart = datetime.strptime(tstart, '%Y-%m-%dT%H:%M:%S')\n",
    "tend = datetime.strptime(tend, '%Y-%m-%dT%H:%M:%S')\n",
    "\n",
    "#tstart.strftime('%Y:%j:%H:%M:%S')\n"
   ]
  },
  {
   "cell_type": "markdown",
   "metadata": {},
   "source": [
    "---\n",
    "# Step 1, get the nominal RA/Dec Position for the Moon at the start.\n",
    "\n",
    "## We use this to determine what the occultation times are."
   ]
  },
  {
   "cell_type": "code",
   "execution_count": 2,
   "metadata": {
    "collapsed": false
   },
   "outputs": [
    {
     "name": "stdout",
     "output_type": "stream",
     "text": [
      "../orbit_engine/lunar_296to297.sh\n"
     ]
    }
   ],
   "source": [
    "from skyfield.api import Loader\n",
    "from astropy.time import Time\n",
    "import astropy.units as u\n",
    "\n",
    "load = Loader('../../data')\n",
    "\n",
    "ts = load.timescale()\n",
    "planets = load('de436.bsp')\n",
    "\n",
    "astro_time = Time(tstart)\n",
    "t = ts.from_astropy(astro_time)\n",
    "moon, earth = planets['moon'], planets['earth']\n",
    "astrometric = earth.at(t).observe(moon)\n",
    "ra, dec, distance = astrometric.radec()\n",
    "\n",
    "\n",
    "occstring = \"./occ {0:0.4f} {1:0.4f} Latest_TLE.txt {2}:{3}:00:00:00 {4}:{5}:00:00:00 lunar_{3}_{5}.occ\".format(\n",
    "      ra.to(u.deg).value, dec.to(u.deg).value,\n",
    "      tstart.timetuple().tm_year, tstart.timetuple().tm_yday, \n",
    "      tend.timetuple().tm_year, tend.timetuple().tm_yday)\n",
    "\n",
    "\n",
    "outfile = '../orbit_engine/lunar_{0}to{1}.sh'.format(tstart.timetuple().tm_yday, tend.timetuple().tm_yday)\n",
    "print(outfile)\n",
    "\n",
    "f = open(outfile, 'w')\n",
    "f.write(occstring)\n",
    "f.close()\n",
    "\n",
    "\n",
    "import os\n",
    "import stat\n",
    "\n",
    "st = os.stat(outfile)\n",
    "os.chmod(outfile, st.st_mode | stat.S_IEXEC)\n",
    "\n"
   ]
  },
  {
   "cell_type": "markdown",
   "metadata": {},
   "source": [
    "---\n",
    "# Step 2: Go run the code that figures out the unocculted periods for the RA/Dec and the date range reported above.\n",
    "\n",
    "This works on lif. There are example shell scripts in the ../orbit_engine directory that use the version that Karl already compiled for the nuops users.\n",
    "\n",
    "First, get the latest TLE archive:\n",
    "\n",
    "`./get_latest_TLE.sh`\n",
    "\n",
    "Run the script that was produced above.\n"
   ]
  },
  {
   "cell_type": "markdown",
   "metadata": {},
   "source": [
    "# Step 3: Initialize your libraries and parse the resulting occultation file:\n"
   ]
  },
  {
   "cell_type": "code",
   "execution_count": 3,
   "metadata": {
    "collapsed": false
   },
   "outputs": [
    {
     "data": {
      "text/html": [
       "<div>\n",
       "<style>\n",
       "    .dataframe thead tr:only-child th {\n",
       "        text-align: right;\n",
       "    }\n",
       "\n",
       "    .dataframe thead th {\n",
       "        text-align: left;\n",
       "    }\n",
       "\n",
       "    .dataframe tbody tr th {\n",
       "        vertical-align: top;\n",
       "    }\n",
       "</style>\n",
       "<table border=\"1\" class=\"dataframe\">\n",
       "  <thead>\n",
       "    <tr style=\"text-align: right;\">\n",
       "      <th></th>\n",
       "      <th>visible</th>\n",
       "      <th>occulted</th>\n",
       "    </tr>\n",
       "  </thead>\n",
       "  <tbody>\n",
       "    <tr>\n",
       "      <th>0</th>\n",
       "      <td>2017-10-23 00:38:39</td>\n",
       "      <td>2017-10-23 01:35:02</td>\n",
       "    </tr>\n",
       "    <tr>\n",
       "      <th>1</th>\n",
       "      <td>2017-10-23 02:15:19</td>\n",
       "      <td>2017-10-23 03:11:41</td>\n",
       "    </tr>\n",
       "    <tr>\n",
       "      <th>2</th>\n",
       "      <td>2017-10-23 03:51:58</td>\n",
       "      <td>2017-10-23 04:48:21</td>\n",
       "    </tr>\n",
       "    <tr>\n",
       "      <th>3</th>\n",
       "      <td>2017-10-23 05:28:38</td>\n",
       "      <td>2017-10-23 06:25:00</td>\n",
       "    </tr>\n",
       "    <tr>\n",
       "      <th>4</th>\n",
       "      <td>2017-10-23 07:05:17</td>\n",
       "      <td>2017-10-23 08:01:39</td>\n",
       "    </tr>\n",
       "  </tbody>\n",
       "</table>\n",
       "</div>"
      ],
      "text/plain": [
       "               visible             occulted\n",
       "0  2017-10-23 00:38:39  2017-10-23 01:35:02\n",
       "1  2017-10-23 02:15:19  2017-10-23 03:11:41\n",
       "2  2017-10-23 03:51:58  2017-10-23 04:48:21\n",
       "3  2017-10-23 05:28:38  2017-10-23 06:25:00\n",
       "4  2017-10-23 07:05:17  2017-10-23 08:01:39"
      ]
     },
     "execution_count": 3,
     "metadata": {},
     "output_type": "execute_result"
    }
   ],
   "source": [
    "from nustar_planning import io\n",
    "occfile= \"../orbit_engine/lunar_{0}_{1}.occ\".format(tstart.timetuple().tm_yday,tend.timetuple().tm_yday )\n",
    "\n",
    "#print(occfile)\n",
    "orbits = io.parse_occ(occfile)\n",
    "\n",
    "# NB: The \"head\" command here only shows the first couple of rows. Do a \"print(orbits)\" to see them all.\n",
    "orbits.head()\n"
   ]
  },
  {
   "cell_type": "code",
   "execution_count": 4,
   "metadata": {
    "collapsed": false
   },
   "outputs": [
    {
     "data": {
      "text/plain": [
       "<module 'nustar_planning.lunar_planning' from '/Users/bwgref/science/local/anaconda/lib/python3.5/site-packages/nustar_planning-0.1.dev50-py3.5.egg/nustar_planning/lunar_planning.py'>"
      ]
     },
     "execution_count": 4,
     "metadata": {},
     "output_type": "execute_result"
    }
   ],
   "source": [
    "#from nustar_planning.lunar_planning import position, position_shift\n",
    "import nustar_planning.lunar_planning as lunar_planning\n",
    "from importlib import reload\n",
    "reload(lunar_planning)"
   ]
  },
  {
   "cell_type": "code",
   "execution_count": 6,
   "metadata": {
    "collapsed": false
   },
   "outputs": [
    {
     "name": "stdout",
     "output_type": "stream",
     "text": [
      "Aim Time            RA         Dec\n",
      "2017-10-23T08:41:57 250.26194  -17.23391\n",
      "2017-10-23T08:53:13.400000 250.32637  -17.49258\n",
      "2017-10-23T09:04:29.800000 249.89781  -17.64252\n",
      "2017-10-23T09:15:46.200000 249.24470  -17.60822\n",
      "2017-10-23T09:27:02.600000 248.76552  -17.41560\n"
     ]
    }
   ],
   "source": [
    "reload(lunar_planning)\n",
    "sub = orbits.iloc[5:6].reset_index()\n",
    "lunar_planning.position(sub, steps = 5, parallax_correction=True)"
   ]
  },
  {
   "cell_type": "code",
   "execution_count": 7,
   "metadata": {
    "collapsed": false,
    "scrolled": false
   },
   "outputs": [
    {
     "name": "stdout",
     "output_type": "stream",
     "text": [
      "2017:296:08:36:57 RA: 250.26159  Dec: -17.40711\n",
      "\n",
      "2017:296:08:39:03 RA: 250.34900  Dec: -17.46397\n",
      "\n",
      "2017:296:08:41:27 RA: 250.42375  Dec: -17.53406\n",
      "\n",
      "2017:296:08:44:21 RA: 250.46774  Dec: -17.62570\n",
      "\n",
      "2017:296:08:48:12 RA: 250.43953  Dec: -17.72215\n",
      "\n",
      "2017:296:08:52:36 RA: 250.35994  Dec: -17.78770\n",
      "\n",
      "2017:296:08:56:06 RA: 250.26345  Dec: -17.83050\n",
      "\n",
      "2017:296:08:58:54 RA: 250.16066  Dec: -17.85917\n",
      "\n",
      "2017:296:09:01:18 RA: 250.05542  Dec: -17.87796\n",
      "\n",
      "2017:296:09:03:27 RA: 249.94860  Dec: -17.88924\n",
      "\n",
      "2017:296:09:05:27 RA: 249.84116  Dec: -17.89425\n",
      "\n",
      "2017:296:09:07:21 RA: 249.73583  Dec: -17.89383\n",
      "\n",
      "2017:296:09:09:09 RA: 249.62881  Dec: -17.88841\n",
      "\n",
      "2017:296:09:10:57 RA: 249.52184  Dec: -17.87808\n",
      "\n",
      "2017:296:09:12:45 RA: 249.41668  Dec: -17.86305\n",
      "\n",
      "2017:296:09:14:33 RA: 249.31231  Dec: -17.84297\n",
      "\n",
      "2017:296:09:16:24 RA: 249.20831  Dec: -17.81711\n",
      "\n",
      "2017:296:09:18:21 RA: 249.10781  Dec: -17.78526\n",
      "\n",
      "2017:296:09:20:24 RA: 249.01040  Dec: -17.74560\n",
      "\n",
      "2017:296:09:22:39 RA: 248.91937  Dec: -17.69591\n",
      "\n",
      "2017:296:09:25:12 RA: 248.83960  Dec: -17.62983\n",
      "\n",
      "2017:296:09:28:21 RA: 248.79593  Dec: -17.53868\n",
      "\n",
      "2017:296:09:32:33 RA: 248.83336  Dec: -17.44482\n",
      "\n",
      "2017:296:09:37:03 RA: 248.91734  Dec: -17.38239\n",
      "\n",
      "2017:296:09:40:24 RA: 249.01355  Dec: -17.34053\n",
      "\n",
      "\n"
     ]
    }
   ],
   "source": [
    "# PA == 0 (default), Rmoon = 940 arcseconds (default), 6 arcminutes maximum drift (default) and\n",
    "# no minimum dwell period (default)\n",
    "reload(lunar_planning)\n",
    "lunar_planning.position_shift(sub, parallax_correction=True, pa = 338.0*u.deg, dt = 3*u.s,\n",
    "                              outfile='lunar_20171023_v4.txt')"
   ]
  },
  {
   "cell_type": "code",
   "execution_count": 8,
   "metadata": {
    "collapsed": true
   },
   "outputs": [],
   "source": [
    "import pandas as pd"
   ]
  },
  {
   "cell_type": "code",
   "execution_count": 34,
   "metadata": {
    "collapsed": false
   },
   "outputs": [],
   "source": [
    "df3 = pd.read_csv('lunar_20171023_v3.txt', sep='\\s+', skiprows=1, header=None, names=['Date', 'RA', 'Dec'])\n",
    "df4 = pd.read_csv('lunar_20171023_v4.txt', sep='\\s+', skiprows=1, header=None, names=['Date', 'RA', 'Dec'])\n",
    "\n"
   ]
  },
  {
   "cell_type": "code",
   "execution_count": 35,
   "metadata": {
    "collapsed": false
   },
   "outputs": [],
   "source": [
    "from astropy.coordinates import SkyCoord"
   ]
  },
  {
   "cell_type": "code",
   "execution_count": 39,
   "metadata": {
    "collapsed": false
   },
   "outputs": [],
   "source": [
    "skypos3 = SkyCoord(df3.RA, df3.Dec,  unit=\"deg\")\n",
    "skypos4 = SkyCoord(df4.RA, df4.Dec,  unit=\"deg\")\n",
    "\n"
   ]
  },
  {
   "cell_type": "code",
   "execution_count": 46,
   "metadata": {
    "collapsed": false
   },
   "outputs": [
    {
     "name": "stdout",
     "output_type": "stream",
     "text": [
      "0.535012935740757\n",
      "0.3576610909146863\n",
      "5.758718734996706\n",
      "4.438753709270061\n",
      "5.100031478860617\n",
      "6.732669545164053\n",
      "8.169955560004789\n",
      "1.1584939633960178\n",
      "1.2521897256066732\n",
      "1.3481895171489073\n",
      "1.3778854293156089\n",
      "1.4429081673537671\n",
      "1.4736041136139966\n",
      "1.4394386307672513\n",
      "1.4048456117935382\n",
      "1.4068479017923265\n",
      "1.3068584340864509\n",
      "1.2424348313962044\n",
      "1.118246645211824\n",
      "7.382982554822452\n",
      "5.721619927786878\n",
      "8.167872207398336\n",
      "9.842635408232349\n",
      "6.816025429746975\n",
      "8.366239856012221\n"
     ]
    }
   ],
   "source": [
    "for ind, pos3 in enumerate(skypos3):\n",
    "    diff = pos3.separation(skypos4[ind])\n",
    "    print(diff.arcsec)\n",
    "    "
   ]
  },
  {
   "cell_type": "code",
   "execution_count": null,
   "metadata": {
    "collapsed": true
   },
   "outputs": [],
   "source": []
  }
 ],
 "metadata": {
  "anaconda-cloud": {},
  "kernelspec": {
   "display_name": "Python [default]",
   "language": "python",
   "name": "python3"
  },
  "language_info": {
   "codemirror_mode": {
    "name": "ipython",
    "version": 3
   },
   "file_extension": ".py",
   "mimetype": "text/x-python",
   "name": "python",
   "nbconvert_exporter": "python",
   "pygments_lexer": "ipython3",
   "version": "3.5.1"
  }
 },
 "nbformat": 4,
 "nbformat_minor": 2
}
